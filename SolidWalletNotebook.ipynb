{
 "cells": [
  {
   "cell_type": "code",
   "execution_count": 1,
   "metadata": {
    "id": "qA9AZ61zsBdO"
   },
   "outputs": [],
   "source": [
    "#!pip install solid-file\n",
    "#!pip install web3"
   ]
  },
  {
   "cell_type": "code",
   "execution_count": 8,
   "metadata": {
    "id": "Sav2aLHYe7Mq"
   },
   "outputs": [],
   "source": [
    "# imports\n",
    "from solid.solid_api import SolidAPI\n",
    "from solid.auth import Auth\n",
    "from getpass import getpass\n",
    "from web3 import Web3, HTTPProvider\n",
    "from web3.middleware import geth_poa_middleware\n",
    "import json\n",
    "import io"
   ]
  },
  {
   "cell_type": "markdown",
   "metadata": {
    "id": "ifDSz9gsejq3"
   },
   "source": [
    "# Welcome to the Papayaverse Demo Notebook\n",
    "\n",
    "INSERT A BUNCH OF INTRODUCTORY TEXT\n",
    "\n",
    "## Login\n",
    "\n",
    "Please login to solidcommunity.net"
   ]
  },
  {
   "cell_type": "code",
   "execution_count": 3,
   "metadata": {
    "colab": {
     "base_uri": "https://localhost:8080/"
    },
    "id": "SfYRW0oYee4u",
    "outputId": "c681063b-e1b5-4e03-e706-aa5ba4b281a5"
   },
   "outputs": [
    {
     "name": "stdout",
     "output_type": "stream",
     "text": [
      "Please enter your  solid community user name:rammkripa\n",
      "Please enter your solid community password:········\n"
     ]
    }
   ],
   "source": [
    "# LOGIN MODULE\n",
    "USERNAME = input('Please enter your  solid community user name:')\n",
    "PASSWORD = getpass('Please enter your solid community password:')\n",
    "IDP = 'https://solidcommunity.net'\n",
    "auth = Auth()\n",
    "solid_connection = SolidAPI(auth)\n",
    "auth.login(IDP, USERNAME, PASSWORD)"
   ]
  },
  {
   "cell_type": "markdown",
   "metadata": {
    "id": "AbdyBBs3guvi"
   },
   "source": [
    "## Wallet\n"
   ]
  },
  {
   "cell_type": "code",
   "execution_count": 4,
   "metadata": {
    "colab": {
     "base_uri": "https://localhost:8080/",
     "height": 532
    },
    "id": "xoSWdjfyhMye",
    "outputId": "62594793-4d08-4cf5-9e9e-956d759b7a90"
   },
   "outputs": [
    {
     "name": "stdout",
     "output_type": "stream",
     "text": [
      "Latest Ethereum block number 8411477\n",
      "Now Connected to the Goerli Network!\n"
     ]
    }
   ],
   "source": [
    "## Setup for Web3\n",
    "web3provider = 'https://goerli.infura.io/v3/85e35e212e7c431a838571e469b3c64b'\n",
    "web3_connection = Web3(HTTPProvider(web3provider))\n",
    "print (\"Latest Ethereum block number\", web3_connection.eth.blockNumber)\n",
    "web3_connection.middleware_onion.inject(geth_poa_middleware, layer=0)\n",
    "if web3_connection.isConnected(): # verify that the connection worked\n",
    "    print('Now Connected to the Goerli Network!')\n",
    "else :\n",
    "    print('An Error Occurred ;-;')"
   ]
  },
  {
   "cell_type": "code",
   "execution_count": 5,
   "metadata": {
    "id": "192jPtL5gq3f"
   },
   "outputs": [
    {
     "name": "stdout",
     "output_type": "stream",
     "text": [
      "Created New Wallet for You 0x4Ab16d8D3Ec90DdA9Fe105F241FcaaeA01D08961\n",
      "Balance is 0 ether\n"
     ]
    }
   ],
   "source": [
    "## Find Existing Wallet\n",
    "wallet_folder = 'https://' + USERNAME + '.solidcommunity.net/private/wallet/'\n",
    "required_files = ['provider.md', 'wallet_address.md', 'private_key.md']\n",
    "criterion = all([solid_connection.item_exists(wallet_folder + i) for i in required_files])\n",
    "if criterion: # Does the user already have a wallet?\n",
    "    wallet_address_file_name = wallet_folder + 'wallet_address.md'\n",
    "    wallet_address_resp = solid_connection.get(wallet_address_file_name)\n",
    "    wallet_address = resp.text\n",
    "    print('Found Existing Wallet ' + wallet_address)\n",
    "## Or Create One\n",
    "else :\n",
    "    my_account = web3_connection.eth.account.create(USERNAME)\n",
    "    wallet_address = my_account._address\n",
    "    print('Created New Wallet for You ' + wallet_address)\n",
    "## And display the balance\n",
    "balance = web3_connection.eth.get_balance(account = wallet_address) # gets balance in wei\n",
    "print('Balance is ' + str(Web3.fromWei(balance, 'ether')) + ' ether')"
   ]
  },
  {
   "cell_type": "code",
   "execution_count": null,
   "metadata": {},
   "outputs": [],
   "source": []
  },
  {
   "cell_type": "code",
   "execution_count": 9,
   "metadata": {
    "id": "YuUJbbyPnvo6"
   },
   "outputs": [
    {
     "ename": "AttributeError",
     "evalue": "'HexBytes' object has no attribute 'encode'",
     "output_type": "error",
     "traceback": [
      "\u001b[0;31m---------------------------------------------------------------------------\u001b[0m",
      "\u001b[0;31mAttributeError\u001b[0m                            Traceback (most recent call last)",
      "\u001b[0;32m/var/folders/0b/m507msr5115g09c0tygf2rzw0000gn/T/ipykernel_69274/4072962294.py\u001b[0m in \u001b[0;36m<module>\u001b[0;34m\u001b[0m\n\u001b[1;32m     10\u001b[0m \u001b[0;31m# Save private key\u001b[0m\u001b[0;34m\u001b[0m\u001b[0;34m\u001b[0m\u001b[0m\n\u001b[1;32m     11\u001b[0m \u001b[0mprivate_key\u001b[0m \u001b[0;34m=\u001b[0m \u001b[0mmy_account\u001b[0m\u001b[0;34m.\u001b[0m\u001b[0m_private_key\u001b[0m\u001b[0;34m\u001b[0m\u001b[0;34m\u001b[0m\u001b[0m\n\u001b[0;32m---> 12\u001b[0;31m \u001b[0msave_wallet_info\u001b[0m\u001b[0;34m(\u001b[0m\u001b[0mprivate_key\u001b[0m\u001b[0;34m,\u001b[0m \u001b[0;34m'private_key.md'\u001b[0m\u001b[0;34m)\u001b[0m\u001b[0;34m\u001b[0m\u001b[0;34m\u001b[0m\u001b[0m\n\u001b[0m",
      "\u001b[0;32m/var/folders/0b/m507msr5115g09c0tygf2rzw0000gn/T/ipykernel_69274/4072962294.py\u001b[0m in \u001b[0;36msave_wallet_info\u001b[0;34m(file_string, file_nm)\u001b[0m\n\u001b[1;32m      1\u001b[0m \u001b[0;31m## Save wallet information if new wallet\u001b[0m\u001b[0;34m\u001b[0m\u001b[0;34m\u001b[0m\u001b[0m\n\u001b[1;32m      2\u001b[0m \u001b[0;32mdef\u001b[0m \u001b[0msave_wallet_info\u001b[0m\u001b[0;34m(\u001b[0m\u001b[0mfile_string\u001b[0m\u001b[0;34m,\u001b[0m \u001b[0mfile_nm\u001b[0m\u001b[0;34m)\u001b[0m\u001b[0;34m:\u001b[0m\u001b[0;34m\u001b[0m\u001b[0;34m\u001b[0m\u001b[0m\n\u001b[0;32m----> 3\u001b[0;31m     \u001b[0mf\u001b[0m \u001b[0;34m=\u001b[0m \u001b[0mio\u001b[0m\u001b[0;34m.\u001b[0m\u001b[0mBytesIO\u001b[0m\u001b[0;34m(\u001b[0m\u001b[0mfile_string\u001b[0m\u001b[0;34m.\u001b[0m\u001b[0mencode\u001b[0m\u001b[0;34m(\u001b[0m\u001b[0;34m'UTF-8'\u001b[0m\u001b[0;34m)\u001b[0m\u001b[0;34m)\u001b[0m\u001b[0;34m\u001b[0m\u001b[0;34m\u001b[0m\u001b[0m\n\u001b[0m\u001b[1;32m      4\u001b[0m     \u001b[0mfile_name\u001b[0m \u001b[0;34m=\u001b[0m \u001b[0mwallet_folder\u001b[0m \u001b[0;34m+\u001b[0m \u001b[0mfile_nm\u001b[0m\u001b[0;34m\u001b[0m\u001b[0;34m\u001b[0m\u001b[0m\n\u001b[1;32m      5\u001b[0m     \u001b[0msolid_connection\u001b[0m\u001b[0;34m.\u001b[0m\u001b[0mput_file\u001b[0m\u001b[0;34m(\u001b[0m\u001b[0mfile_name\u001b[0m\u001b[0;34m,\u001b[0m \u001b[0mf\u001b[0m\u001b[0;34m,\u001b[0m \u001b[0;34m'text/markdown'\u001b[0m\u001b[0;34m)\u001b[0m\u001b[0;34m\u001b[0m\u001b[0;34m\u001b[0m\u001b[0m\n",
      "\u001b[0;31mAttributeError\u001b[0m: 'HexBytes' object has no attribute 'encode'"
     ]
    }
   ],
   "source": [
    "## Save wallet information if new wallet\n",
    "def save_wallet_info(file_string, file_nm):\n",
    "    f = io.BytesIO(file_string.encode('UTF-8'))\n",
    "    file_name = wallet_folder + file_nm\n",
    "    solid_connection.put_file(file_name, f, 'text/markdown')\n",
    "# Save provider\n",
    "save_wallet_info(web3provider, 'provider.md')\n",
    "# Save wallet address\n",
    "save_wallet_info(wallet_address, 'wallet_address.md')\n",
    "# Save private key\n",
    "private_key = my_account._private_key\n",
    "save_wallet_info(private_key, 'private_key.md')"
   ]
  },
  {
   "cell_type": "code",
   "execution_count": null,
   "metadata": {
    "id": "fWMRwSO3r37Q"
   },
   "outputs": [],
   "source": []
  }
 ],
 "metadata": {
  "colab": {
   "provenance": []
  },
  "kernelspec": {
   "display_name": "Python 3 (ipykernel)",
   "language": "python",
   "name": "python3"
  },
  "language_info": {
   "codemirror_mode": {
    "name": "ipython",
    "version": 3
   },
   "file_extension": ".py",
   "mimetype": "text/x-python",
   "name": "python",
   "nbconvert_exporter": "python",
   "pygments_lexer": "ipython3",
   "version": "3.9.13"
  }
 },
 "nbformat": 4,
 "nbformat_minor": 1
}
