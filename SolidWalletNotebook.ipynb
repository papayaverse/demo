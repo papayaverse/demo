{
 "cells": [
  {
   "cell_type": "code",
   "execution_count": 1,
   "metadata": {
    "id": "qA9AZ61zsBdO"
   },
   "outputs": [],
   "source": [
    "#!pip install solid-file\n",
    "#!pip install web3"
   ]
  },
  {
   "cell_type": "code",
   "execution_count": 2,
   "metadata": {
    "id": "Sav2aLHYe7Mq"
   },
   "outputs": [],
   "source": [
    "# imports\n",
    "from solid.solid_api import SolidAPI\n",
    "from solid.auth import Auth\n",
    "from getpass import getpass\n",
    "from web3 import Web3, HTTPProvider\n",
    "from web3.middleware import geth_poa_middleware\n",
    "import json\n",
    "import io"
   ]
  },
  {
   "cell_type": "code",
   "execution_count": 3,
   "metadata": {},
   "outputs": [],
   "source": [
    "#Nothing"
   ]
  },
  {
   "cell_type": "markdown",
   "metadata": {
    "id": "ifDSz9gsejq3"
   },
   "source": [
    "# Welcome to the Papayaverse Demo Notebook\n",
    "\n",
    "INSERT A BUNCH OF INTRODUCTORY TEXT\n",
    "\n",
    "## Login\n",
    "\n",
    "Please login to solidcommunity.net"
   ]
  },
  {
   "cell_type": "code",
   "execution_count": 4,
   "metadata": {
    "colab": {
     "base_uri": "https://localhost:8080/"
    },
    "id": "SfYRW0oYee4u",
    "outputId": "c681063b-e1b5-4e03-e706-aa5ba4b281a5"
   },
   "outputs": [
    {
     "name": "stdout",
     "output_type": "stream",
     "text": [
      "Please enter your  solid community user name:rammkripa\n",
      "Please enter your solid community password:········\n"
     ]
    }
   ],
   "source": [
    "# LOGIN MODULE\n",
    "USERNAME = input('Please enter your  solid community user name:')\n",
    "PASSWORD = getpass('Please enter your solid community password:')\n",
    "IDP = 'https://solidcommunity.net'\n",
    "auth = Auth()\n",
    "solid_connection = SolidAPI(auth)\n",
    "auth.login(IDP, USERNAME, PASSWORD)"
   ]
  },
  {
   "cell_type": "markdown",
   "metadata": {
    "id": "AbdyBBs3guvi"
   },
   "source": [
    "\n",
    "## Wallet\n"
   ]
  },
  {
   "cell_type": "code",
   "execution_count": 5,
   "metadata": {
    "colab": {
     "base_uri": "https://localhost:8080/",
     "height": 532
    },
    "id": "xoSWdjfyhMye",
    "outputId": "62594793-4d08-4cf5-9e9e-956d759b7a90"
   },
   "outputs": [
    {
     "name": "stdout",
     "output_type": "stream",
     "text": [
      "Latest Ethereum block number 8422963\n",
      "Now Connected to the Goerli Network!\n"
     ]
    }
   ],
   "source": [
    "## Setup for Web3\n",
    "web3provider = 'https://goerli.infura.io/v3/85e35e212e7c431a838571e469b3c64b'\n",
    "web3_connection = Web3(HTTPProvider(web3provider))\n",
    "print (\"Latest Ethereum block number\", web3_connection.eth.blockNumber)\n",
    "web3_connection.middleware_onion.inject(geth_poa_middleware, layer=0)\n",
    "if web3_connection.isConnected(): # verify that the connection worked\n",
    "    print('Now Connected to the Goerli Network!')\n",
    "else :\n",
    "    print('An Error Occurred ;-;')"
   ]
  },
  {
   "cell_type": "code",
   "execution_count": 7,
   "metadata": {
    "id": "192jPtL5gq3f"
   },
   "outputs": [
    {
     "name": "stdout",
     "output_type": "stream",
     "text": [
      "Found Existing Wallet 0xdC7c6077515FFD7e132ae6f612498f511daEc9c1\n",
      "Balance is 0.198998988615780497 ether\n"
     ]
    }
   ],
   "source": [
    "## Find Existing Wallet\n",
    "wallet_folder = 'https://' + USERNAME + '.solidcommunity.net/public/wallet/'\n",
    "private_wallet_folder = 'https://' + USERNAME + '.solidcommunity.net/private/wallet/'\n",
    "required_files = ['provider.md', 'wallet_address.md']\n",
    "criterion = all([solid_connection.item_exists(wallet_folder + i) for i in required_files])\n",
    "if criterion: # Does the user already have a wallet?\n",
    "    wallet_address_file_name = wallet_folder + 'wallet_address.md'\n",
    "    wallet_address_resp = solid_connection.get(wallet_address_file_name)\n",
    "    wallet_address = wallet_address_resp.text\n",
    "    print('Found Existing Wallet ' + wallet_address)\n",
    "## Or Create One\n",
    "else :\n",
    "    my_account = web3_connection.eth.account.create(USERNAME)\n",
    "    wallet_address = my_account._address\n",
    "    print('Created New Wallet for You ' + wallet_address)\n",
    "    ## Save wallet information if new wallet\n",
    "    def save_wallet_info(file_string, file_nm):\n",
    "        f = io.BytesIO(file_string.encode('UTF-8'))\n",
    "        file_name = file_nm\n",
    "        solid_connection.put_file(file_name, f, 'text/markdown')\n",
    "    # Save provider\n",
    "    save_wallet_info(web3provider, wallet_folder + 'provider.md')\n",
    "    # Save wallet address\n",
    "    save_wallet_info(wallet_address, wallet_folder + 'wallet_address.md')\n",
    "    # Save private key\n",
    "    private_key = my_account._private_key.hex()\n",
    "    save_wallet_info(private_key, private_wallet_folder + 'private_key.md')\n",
    "## And display the balance\n",
    "balance = web3_connection.eth.get_balance(account = wallet_address) # gets balance in wei\n",
    "print('Balance is ' + str(Web3.fromWei(balance, 'ether')) + ' ether')"
   ]
  },
  {
   "cell_type": "code",
   "execution_count": null,
   "metadata": {},
   "outputs": [],
   "source": []
  },
  {
   "cell_type": "markdown",
   "metadata": {},
   "source": [
    "## Transactions"
   ]
  },
  {
   "cell_type": "markdown",
   "metadata": {},
   "source": [
    "Insert some text here about transactions"
   ]
  },
  {
   "cell_type": "markdown",
   "metadata": {},
   "source": [
    "### Send Eth"
   ]
  },
  {
   "cell_type": "code",
   "execution_count": 8,
   "metadata": {
    "id": "YuUJbbyPnvo6"
   },
   "outputs": [
    {
     "name": "stdout",
     "output_type": "stream",
     "text": [
      "Enter the username to whom you want to send eth ramtest\n",
      "Enter the amount you want to send (in ether) 0.000000001\n"
     ]
    }
   ],
   "source": [
    "# Inputs\n",
    "TO_USER = input(\"Enter the username to whom you want to send eth \")\n",
    "AMOUNT = (input(\"Enter the amount you want to send (in ether) \"))"
   ]
  },
  {
   "cell_type": "code",
   "execution_count": 9,
   "metadata": {
    "id": "fWMRwSO3r37Q"
   },
   "outputs": [],
   "source": [
    "# Get Private Key\n",
    "private_key_file_name = private_wallet_folder + 'private_key.md'\n",
    "private_key = solid_connection.get(private_key_file_name).text"
   ]
  },
  {
   "cell_type": "code",
   "execution_count": 10,
   "metadata": {},
   "outputs": [],
   "source": [
    "# Get TO_ADDRESS FROM USER\n",
    "TO_ADDRESS = solid_connection.get('https://' + TO_USER + '.solidcommunity.net/public/wallet/wallet_address.md').text"
   ]
  },
  {
   "cell_type": "code",
   "execution_count": 11,
   "metadata": {},
   "outputs": [
    {
     "data": {
      "text/plain": [
       "'0x1cCA8B314fD19128E01c9eDf5bC283C7cACdEb9B'"
      ]
     },
     "execution_count": 11,
     "metadata": {},
     "output_type": "execute_result"
    }
   ],
   "source": [
    "TO_ADDRESS"
   ]
  },
  {
   "cell_type": "code",
   "execution_count": null,
   "metadata": {},
   "outputs": [],
   "source": []
  },
  {
   "cell_type": "code",
   "execution_count": 12,
   "metadata": {},
   "outputs": [],
   "source": [
    "transaction = {\n",
    "        \"nonce\": web3_connection.eth.get_transaction_count(wallet_address),\n",
    "        \"gas\": 21000,\n",
    "        \"to\": TO_ADDRESS,\n",
    "        \"value\": web3_connection.toWei(AMOUNT, \"ether\"),\n",
    "        \"gasPrice\" : 21000\n",
    "    }"
   ]
  },
  {
   "cell_type": "code",
   "execution_count": 13,
   "metadata": {},
   "outputs": [
    {
     "name": "stdout",
     "output_type": "stream",
     "text": [
      "Sign Transaction? (enter Y for yes, anything else for no) Y\n"
     ]
    }
   ],
   "source": [
    "is_signed = input(\"Sign Transaction? (enter Y for yes, anything else for no) \")\n",
    "if is_signed == 'Y':\n",
    "    signed_txn = web3_connection.eth.account.signTransaction(transaction, private_key)"
   ]
  },
  {
   "cell_type": "code",
   "execution_count": 14,
   "metadata": {},
   "outputs": [],
   "source": [
    "txn_hash = web3_connection.eth.sendRawTransaction(signed_txn.rawTransaction)"
   ]
  },
  {
   "cell_type": "code",
   "execution_count": 24,
   "metadata": {},
   "outputs": [
    {
     "data": {
      "text/plain": [
       "'https://goerli.etherscan.io/tx/0xc7426d8b54a34ad7819aa833d2adaf731e6cc831b52b28c6156e6e0b6311ff56'"
      ]
     },
     "execution_count": 24,
     "metadata": {},
     "output_type": "execute_result"
    }
   ],
   "source": [
    "#txn_hash\n",
    "link_to_etherscan = 'https://goerli.etherscan.io/tx/' + txn_hash.hex()\n",
    "link_to_etherscan\n",
    "# https://goerli.etherscan.io/tx/0xa9f8c99ae4e7faecca79cdc93333b781fa5da0224ad63381e5f3a754fe889d72"
   ]
  },
  {
   "cell_type": "code",
   "execution_count": 16,
   "metadata": {},
   "outputs": [
    {
     "name": "stdout",
     "output_type": "stream",
     "text": [
      "New Number of Transactions Is 5\n"
     ]
    }
   ],
   "source": [
    "print(\"New Number of Transactions Is \" + str(web3_connection.eth.getTransactionCount(wallet_address)))"
   ]
  },
  {
   "cell_type": "code",
   "execution_count": 22,
   "metadata": {},
   "outputs": [
    {
     "name": "stdout",
     "output_type": "stream",
     "text": [
      "New Balance is 0.198998988615780497 ether\n"
     ]
    }
   ],
   "source": [
    "balance = web3_connection.eth.get_balance(account = wallet_address)\n",
    "print('New Balance is ' + str(Web3.fromWei(balance, 'ether')) + ' ether')"
   ]
  },
  {
   "cell_type": "code",
   "execution_count": null,
   "metadata": {},
   "outputs": [],
   "source": []
  },
  {
   "cell_type": "code",
   "execution_count": null,
   "metadata": {},
   "outputs": [],
   "source": []
  }
 ],
 "metadata": {
  "colab": {
   "provenance": []
  },
  "kernelspec": {
   "display_name": "Python 3 (ipykernel)",
   "language": "python",
   "name": "python3"
  },
  "language_info": {
   "codemirror_mode": {
    "name": "ipython",
    "version": 3
   },
   "file_extension": ".py",
   "mimetype": "text/x-python",
   "name": "python",
   "nbconvert_exporter": "python",
   "pygments_lexer": "ipython3",
   "version": "3.9.13"
  }
 },
 "nbformat": 4,
 "nbformat_minor": 1
}
